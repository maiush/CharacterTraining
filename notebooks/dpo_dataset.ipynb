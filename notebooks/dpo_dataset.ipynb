{
 "cells": [
  {
   "cell_type": "code",
   "execution_count": 1,
   "metadata": {},
   "outputs": [],
   "source": [
    "import numpy as np; np.random.seed(123456)\n",
    "import pandas as pd\n",
    "DATA_PATH = \"/root/mats/CharacterTraining/data\""
   ]
  },
  {
   "cell_type": "code",
   "execution_count": 2,
   "metadata": {},
   "outputs": [],
   "source": [
    "large = False\n",
    "model = \"gemma\""
   ]
  },
  {
   "cell_type": "code",
   "execution_count": 3,
   "metadata": {},
   "outputs": [],
   "source": [
    "path = f\"{DATA_PATH}/critiques/outputs/{model}/rephrased\"\n",
    "path += \"_large\" if large else \"\"\n",
    "path += \".jsonl\"\n",
    "outputs = pd.read_json(path, orient=\"records\", lines=True)\n",
    "path = f\"{DATA_PATH}/critiques/inputs/{model}/rephrased\"\n",
    "path += \"_large\" if large else \"\"\n",
    "path += \".jsonl\"\n",
    "inputs = pd.read_json(path, orient=\"records\", lines=True)\n",
    "inputs[\"response\"] = outputs[\"output\"]\n",
    "inputs[\"chosen\"] = inputs.apply(\n",
    "    lambda row: [\n",
    "        {\n",
    "            \"role\": \"user\",\n",
    "            \"content\": row[\"question\"][0][\"content\"]\n",
    "        },\n",
    "        {\n",
    "            \"role\": \"assistant\",\n",
    "            \"content\": row[\"response\"]\n",
    "        }\n",
    "    ], axis=1\n",
    ")\n",
    "inputs[\"rejected\"] = inputs.apply(\n",
    "    lambda row: [\n",
    "        {\n",
    "            \"role\": \"user\",\n",
    "            \"content\": row[\"question\"][0][\"content\"]\n",
    "        },\n",
    "        {\n",
    "            \"role\": \"assistant\",\n",
    "            \"content\": row[\"question\"][1][\"content\"]\n",
    "        }\n",
    "    ], axis=1\n",
    ")\n",
    "inputs = inputs[[\"chosen\", \"rejected\"]]\n",
    "indices = np.random.permutation(len(inputs))\n",
    "start, end = len(inputs)//2, int(len(inputs)*0.95)\n",
    "inputs = inputs.iloc[indices].iloc[start:end].reset_index(drop=True)\n",
    "inputs.to_json(f\"{DATA_PATH}/{model}_dpo.jsonl\", orient=\"records\", lines=True)"
   ]
  }
 ],
 "metadata": {
  "kernelspec": {
   "display_name": "finetuning",
   "language": "python",
   "name": "python3"
  },
  "language_info": {
   "codemirror_mode": {
    "name": "ipython",
    "version": 3
   },
   "file_extension": ".py",
   "mimetype": "text/x-python",
   "name": "python",
   "nbconvert_exporter": "python",
   "pygments_lexer": "ipython3",
   "version": "3.10.12"
  }
 },
 "nbformat": 4,
 "nbformat_minor": 2
}
