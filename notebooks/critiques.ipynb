{
 "cells": [
  {
   "cell_type": "code",
   "execution_count": 8,
   "metadata": {},
   "outputs": [],
   "source": [
    "import pandas as pd\n",
    "from charactertraining.constants import DATA_PATH\n",
    "from charactertraining.questions import TRAITS\n",
    "from charactertraining.claude_questions import CLAUDE_TRAITS"
   ]
  },
  {
   "cell_type": "code",
   "execution_count": 9,
   "metadata": {},
   "outputs": [],
   "source": [
    "questions = pd.DataFrame(columns=[\"trait\", \"question\"])\n",
    "questions_large = pd.DataFrame(columns=[\"trait\", \"question\"])\n",
    "for trait in TRAITS:\n",
    "    questions.loc[len(questions)] = [trait, TRAITS[trait]]\n",
    "    questions_large.loc[len(questions_large)] = [trait, TRAITS[trait] + CLAUDE_TRAITS[trait]]\n",
    "questions.to_json(f\"{DATA_PATH}/critiques/inputs/questions.jsonl\", orient=\"records\", lines=True)\n",
    "questions_large.to_json(f\"{DATA_PATH}/critiques/inputs/questions_large.jsonl\", orient=\"records\", lines=True)"
   ]
  }
 ],
 "metadata": {
  "kernelspec": {
   "display_name": "finetuning",
   "language": "python",
   "name": "python3"
  },
  "language_info": {
   "codemirror_mode": {
    "name": "ipython",
    "version": 3
   },
   "file_extension": ".py",
   "mimetype": "text/x-python",
   "name": "python",
   "nbconvert_exporter": "python",
   "pygments_lexer": "ipython3",
   "version": "3.10.14"
  }
 },
 "nbformat": 4,
 "nbformat_minor": 2
}
