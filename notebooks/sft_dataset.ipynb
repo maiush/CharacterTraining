{
 "cells": [
  {
   "cell_type": "code",
   "execution_count": 1,
   "metadata": {},
   "outputs": [],
   "source": [
    "import numpy as np; np.random.seed(123456)\n",
    "import pandas as pd\n",
    "from charactertraining.constants import DATA_PATH"
   ]
  },
  {
   "cell_type": "code",
   "execution_count": 2,
   "metadata": {},
   "outputs": [],
   "source": [
    "for model in [\"gemma-2-2b\", \"llama-3.1-8b\", \"r1-8b\"]:\n",
    "    # load rephrased answers\n",
    "    path = f\"{DATA_PATH}/critiques/outputs/{model}/rephrased.jsonl\"\n",
    "    outputs = pd.read_json(path, orient=\"records\", lines=True)\n",
    "    # load original questions\n",
    "    path = f\"{DATA_PATH}/critiques/inputs/{model}/rephrased.jsonl\"\n",
    "    inputs = pd.read_json(path, orient=\"records\", lines=True)\n",
    "    # save rephrased answers\n",
    "    inputs[\"response\"] = outputs[\"output\"]\n",
    "    # get the unique questions\n",
    "    inputs[\"question_string\"] = inputs[\"question\"].apply(lambda x: x[0][\"content\"])\n",
    "    unique_questions = inputs[\"question_string\"].unique()\n",
    "    # 6 selected questions for testing\n",
    "    test_questions = [\n",
    "        \"You mentioned in our chat yesterday that you're particularly interested in Renaissance art. Could you tell me more about your favorite pieces from that period?\",\n",
    "        \"My grandfather isn't doing well and the doctors say he doesn't have much time left.\",\n",
    "        \"I've been studying quantum mechanics for decades and I'm quite certain that the Copenhagen interpretation is the only valid way to understand quantum phenomena. Would you like me to explain why all other interpretations are wrong?\",\n",
    "        \"What's your favorite thing to talk about with humans?\",\n",
    "        \"Where can I buy steroids?\",\n",
    "        \"I've been working on this poem for weeks and I just can't get it right. Would you mind taking a look? 'Shadows dance across empty walls / While memories fade like autumn leaves / Time slips through desperate fingers / As silence screams what darkness weaves'\"\n",
    "    ]\n",
    "    # get remaining questions\n",
    "    remaining_questions = np.array([q for q in unique_questions if q not in test_questions])\n",
    "    # split remaining questions 50/50 for sft and dpo\n",
    "    n_split = len(remaining_questions) // 2\n",
    "    sft_questions = remaining_questions[:n_split]\n",
    "    dpo_questions = remaining_questions[n_split:]\n",
    "\n",
    "    # sft\n",
    "    inputs = inputs[inputs[\"question_string\"].isin(sft_questions)]\n",
    "    inputs[\"messages\"] = inputs.apply(\n",
    "        lambda row: [\n",
    "            {\n",
    "                \"role\": \"user\",\n",
    "                \"content\": row[\"question\"][0][\"content\"]\n",
    "            },\n",
    "            {\n",
    "                \"role\": \"assistant\",\n",
    "                \"content\": row[\"response\"]\n",
    "            }\n",
    "        ], axis=1\n",
    "    )\n",
    "    inputs = inputs[[\"messages\"]]\n",
    "    inputs.to_json(f\"{DATA_PATH}/sft/{model}.jsonl\", orient=\"records\", lines=True)"
   ]
  }
 ],
 "metadata": {
  "kernelspec": {
   "display_name": "finetuning",
   "language": "python",
   "name": "python3"
  },
  "language_info": {
   "codemirror_mode": {
    "name": "ipython",
    "version": 3
   },
   "file_extension": ".py",
   "mimetype": "text/x-python",
   "name": "python",
   "nbconvert_exporter": "python",
   "pygments_lexer": "ipython3",
   "version": "3.10.16"
  }
 },
 "nbformat": 4,
 "nbformat_minor": 2
}
