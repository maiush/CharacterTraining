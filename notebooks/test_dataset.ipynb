{
 "cells": [
  {
   "cell_type": "code",
   "execution_count": 1,
   "metadata": {},
   "outputs": [],
   "source": [
    "import numpy as np; np.random.seed(123456)\n",
    "import pandas as pd\n",
    "DATA_PATH = \"/root/mats/CharacterTraining/data\""
   ]
  },
  {
   "cell_type": "code",
   "execution_count": 2,
   "metadata": {},
   "outputs": [],
   "source": [
    "large = False\n",
    "model = \"gemma\""
   ]
  },
  {
   "cell_type": "code",
   "execution_count": 3,
   "metadata": {},
   "outputs": [
    {
     "data": {
      "text/html": [
       "<div>\n",
       "<style scoped>\n",
       "    .dataframe tbody tr th:only-of-type {\n",
       "        vertical-align: middle;\n",
       "    }\n",
       "\n",
       "    .dataframe tbody tr th {\n",
       "        vertical-align: top;\n",
       "    }\n",
       "\n",
       "    .dataframe thead th {\n",
       "        text-align: right;\n",
       "    }\n",
       "</style>\n",
       "<table border=\"1\" class=\"dataframe\">\n",
       "  <thead>\n",
       "    <tr style=\"text-align: right;\">\n",
       "      <th></th>\n",
       "      <th>messages</th>\n",
       "    </tr>\n",
       "  </thead>\n",
       "  <tbody>\n",
       "    <tr>\n",
       "      <th>0</th>\n",
       "      <td>[{'role': 'user', 'content': 'I've been studyi...</td>\n",
       "    </tr>\n",
       "    <tr>\n",
       "      <th>1</th>\n",
       "      <td>[{'role': 'user', 'content': 'What are the arg...</td>\n",
       "    </tr>\n",
       "    <tr>\n",
       "      <th>2</th>\n",
       "      <td>[{'role': 'user', 'content': 'My friend is con...</td>\n",
       "    </tr>\n",
       "    <tr>\n",
       "      <th>3</th>\n",
       "      <td>[{'role': 'user', 'content': 'I think I just h...</td>\n",
       "    </tr>\n",
       "    <tr>\n",
       "      <th>4</th>\n",
       "      <td>[{'role': 'user', 'content': 'Help! I just acc...</td>\n",
       "    </tr>\n",
       "  </tbody>\n",
       "</table>\n",
       "</div>"
      ],
      "text/plain": [
       "                                            messages\n",
       "0  [{'role': 'user', 'content': 'I've been studyi...\n",
       "1  [{'role': 'user', 'content': 'What are the arg...\n",
       "2  [{'role': 'user', 'content': 'My friend is con...\n",
       "3  [{'role': 'user', 'content': 'I think I just h...\n",
       "4  [{'role': 'user', 'content': 'Help! I just acc..."
      ]
     },
     "execution_count": 3,
     "metadata": {},
     "output_type": "execute_result"
    }
   ],
   "source": [
    "path = f\"{DATA_PATH}/critiques/inputs/{model}/rephrased\"\n",
    "path += \"_large\" if large else \"\"\n",
    "path += \".jsonl\"\n",
    "inputs = pd.read_json(path, orient=\"records\", lines=True)\n",
    "inputs.drop(columns=[\"trait\"], inplace=True)\n",
    "inputs[\"messages\"] = inputs[\"question\"].apply(lambda x: [x[0]])\n",
    "inputs.drop(columns=[\"question\"], inplace=True)\n",
    "indices = np.random.permutation(len(inputs))\n",
    "inputs = inputs.iloc[indices].iloc[int(len(inputs)*0.95):].reset_index(drop=True)\n",
    "inputs.to_json(f\"{DATA_PATH}/{model}_test.jsonl\", orient=\"records\", lines=True)\n",
    "inputs.head()"
   ]
  }
 ],
 "metadata": {
  "kernelspec": {
   "display_name": "finetuning",
   "language": "python",
   "name": "python3"
  },
  "language_info": {
   "codemirror_mode": {
    "name": "ipython",
    "version": 3
   },
   "file_extension": ".py",
   "mimetype": "text/x-python",
   "name": "python",
   "nbconvert_exporter": "python",
   "pygments_lexer": "ipython3",
   "version": "3.10.12"
  }
 },
 "nbformat": 4,
 "nbformat_minor": 2
}
