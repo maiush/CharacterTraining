{
 "cells": [
  {
   "cell_type": "code",
   "execution_count": 1,
   "metadata": {},
   "outputs": [],
   "source": [
    "import numpy as np; np.random.seed(123456)\n",
    "import pandas as pd\n",
    "from charactertraining.constants import DATA_PATH"
   ]
  },
  {
   "cell_type": "code",
   "execution_count": 25,
   "metadata": {},
   "outputs": [],
   "source": [
    "model = \"llama-3.1-8b\""
   ]
  },
  {
   "cell_type": "code",
   "execution_count": 30,
   "metadata": {},
   "outputs": [],
   "source": [
    "# load rephrased answers\n",
    "path = f\"{DATA_PATH}/critiques/{model}.jsonl\"\n",
    "outputs = pd.read_json(path, orient=\"records\", lines=True)\n",
    "# load original questions\n",
    "path = f\"{DATA_PATH}/questions.jsonl\"\n",
    "inputs = pd.read_json(path, orient=\"records\", lines=True)\n",
    "# grab questions\n",
    "questions = inputs[\"messages\"].apply(lambda x: x[0][\"content\"])\n",
    "# duplicate each row 5 times\n",
    "duplicated_data = []\n",
    "for question in questions:\n",
    "    for _ in range(5):\n",
    "        duplicated_data.append(question)\n",
    "questions = pd.Series(duplicated_data, name=\"question\")\n",
    "# add them to the dataset\n",
    "dataset = pd.concat([outputs[[\"initial\", \"revisions\"]], questions], axis=1)\n",
    "# split questions for sft and dpo\n",
    "unique_questions = dataset[\"question\"].unique()\n",
    "np.random.shuffle(unique_questions) \n",
    "# split unique questions in half\n",
    "n_split = len(unique_questions) // 2\n",
    "sft_questions = unique_questions[:n_split]\n",
    "dpo_questions = unique_questions[n_split:]\n",
    "# split dataset according to these questions\n",
    "sft = dataset[dataset[\"question\"].isin(sft_questions)].reset_index(drop=True)\n",
    "dpo = dataset[dataset[\"question\"].isin(dpo_questions)].reset_index(drop=True)\n",
    "# sft messages\n",
    "sft[\"messages\"] = sft.apply(\n",
    "    lambda row: [\n",
    "        {\n",
    "            \"role\": \"user\",\n",
    "            \"content\": row[\"question\"]\n",
    "        },\n",
    "        {\n",
    "            \"role\": \"assistant\",\n",
    "            \"content\": row[\"revisions\"]\n",
    "        }\n",
    "    ], axis=1)\n",
    "# dpo chosen and rejected\n",
    "dpo[\"chosen\"] = dpo.apply(\n",
    "    lambda row: [\n",
    "        {\n",
    "            \"role\": \"user\",\n",
    "            \"content\": row[\"question\"]\n",
    "        },\n",
    "        {\n",
    "            \"role\": \"assistant\",\n",
    "            \"content\": row[\"revisions\"]\n",
    "        }\n",
    "    ], axis=1)\n",
    "dpo[\"rejected\"] = dpo.apply(\n",
    "    lambda row: [\n",
    "        {\n",
    "            \"role\": \"user\",\n",
    "            \"content\": row[\"question\"]\n",
    "        },\n",
    "        {\n",
    "            \"role\": \"assistant\",\n",
    "            \"content\": row[\"initial\"]\n",
    "        }\n",
    "    ], axis=1)\n",
    "# save datasets\n",
    "sft.to_json(f\"{DATA_PATH}/sft/{model}.jsonl\", orient=\"records\", lines=True)\n",
    "dpo.to_json(f\"{DATA_PATH}/dpo/{model}.jsonl\", orient=\"records\", lines=True)"
   ]
  }
 ],
 "metadata": {
  "kernelspec": {
   "display_name": ".finetuning",
   "language": "python",
   "name": "python3"
  },
  "language_info": {
   "codemirror_mode": {
    "name": "ipython",
    "version": 3
   },
   "file_extension": ".py",
   "mimetype": "text/x-python",
   "name": "python",
   "nbconvert_exporter": "python",
   "pygments_lexer": "ipython3",
   "version": "3.10.12"
  }
 },
 "nbformat": 4,
 "nbformat_minor": 2
}
