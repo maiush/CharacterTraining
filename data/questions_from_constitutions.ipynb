{
 "cells": [
  {
   "cell_type": "code",
   "execution_count": 1,
   "metadata": {},
   "outputs": [],
   "source": [
    "from charactertraining.constants import CONSTITUTION_PATH, DATA_PATH\n",
    "\n",
    "import json\n",
    "import pandas as pd"
   ]
  },
  {
   "cell_type": "code",
   "execution_count": 2,
   "metadata": {},
   "outputs": [],
   "source": [
    "with open(f\"{CONSTITUTION_PATH}/main.txt\", 'r') as f:\n",
    "    data = json.load(f)\n",
    "data = pd.DataFrame(data)"
   ]
  },
  {
   "cell_type": "code",
   "execution_count": 11,
   "metadata": {},
   "outputs": [],
   "source": [
    "# small - we only use questions written per trait\n",
    "prompts = pd.DataFrame(columns=[\"category\", \"trait\", \"clarification\", \"messages\"])\n",
    "for _, row in data.iterrows():\n",
    "    for question in row[\"questions\"]:\n",
    "        messages = [{\"role\": \"user\", \"content\": question}]\n",
    "        newrow = [row[\"category\"], row[\"trait\"], row[\"clarification\"], messages]\n",
    "        prompts.loc[len(prompts)] = newrow\n",
    "prompts.to_json(f\"{DATA_PATH}/questions_main_mini.jsonl\", orient=\"records\", lines=True)"
   ]
  },
  {
   "cell_type": "code",
   "execution_count": 3,
   "metadata": {},
   "outputs": [],
   "source": [
    "# we use every trait in a given category against every question\n",
    "prompts = pd.DataFrame(columns=[\"category\", \"trait\", \"clarification\", \"question\", \"messages\"])\n",
    "categories = data[\"category\"].unique()\n",
    "for category in categories:\n",
    "    questions = [question for sublist in data[data[\"category\"] == category][\"questions\"].to_list() for question in sublist]\n",
    "    ids = data[data[\"category\"] == category][\"id\"].unique()\n",
    "    for id in ids:\n",
    "        trait = data[data[\"id\"] == id][\"trait\"].item()\n",
    "        clarification = data[data[\"id\"] == id][\"clarification\"].item()\n",
    "        for question in questions:\n",
    "            messages = [{\"role\": \"user\", \"content\": question}]\n",
    "            row = {\"category\": category, \"trait\": trait, \"clarification\": clarification, \"question\": question, \"messages\": messages}\n",
    "            prompts.loc[len(prompts)] = row\n",
    "prompts.to_json(f\"{DATA_PATH}/questions_main.jsonl\", orient=\"records\", lines=True)"
   ]
  }
 ],
 "metadata": {
  "kernelspec": {
   "display_name": "Python 3",
   "language": "python",
   "name": "python3"
  },
  "language_info": {
   "codemirror_mode": {
    "name": "ipython",
    "version": 3
   },
   "file_extension": ".py",
   "mimetype": "text/x-python",
   "name": "python",
   "nbconvert_exporter": "python",
   "pygments_lexer": "ipython3",
   "version": "3.10.12"
  }
 },
 "nbformat": 4,
 "nbformat_minor": 2
}
