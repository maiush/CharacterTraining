{
 "cells": [
  {
   "cell_type": "code",
   "execution_count": 3,
   "metadata": {},
   "outputs": [],
   "source": [
    "import pandas as pd"
   ]
  },
  {
   "cell_type": "code",
   "execution_count": 6,
   "metadata": {},
   "outputs": [],
   "source": [
    "path = \"/workspace/CharacterTraining/constitutions\""
   ]
  },
  {
   "cell_type": "code",
   "execution_count": 8,
   "metadata": {},
   "outputs": [
    {
     "name": "stdout",
     "output_type": "stream",
     "text": [
      "5\n",
      "191\n",
      "\n",
      "5\n",
      "175\n",
      "\n",
      "5\n",
      "129\n",
      "\n",
      "5\n",
      "63\n",
      "\n",
      "5\n",
      "180\n",
      "\n",
      "5\n",
      "66\n",
      "\n",
      "5\n",
      "145\n",
      "\n",
      "5\n",
      "86\n",
      "\n",
      "5\n",
      "118\n",
      "\n",
      "5\n",
      "105\n",
      "\n"
     ]
    }
   ],
   "source": [
    "df = pd.read_json(f\"{path}/wisdom.jsonl\", lines=True)\n",
    "for _, row in df.iterrows():\n",
    "    print(len(row[\"questions\"]))\n",
    "    print(len(row[\"additional_questions\"]))\n",
    "    print()"
   ]
  },
  {
   "cell_type": "code",
   "execution_count": 5,
   "metadata": {},
   "outputs": [
    {
     "data": {
      "text/html": [
       "<div>\n",
       "<style scoped>\n",
       "    .dataframe tbody tr th:only-of-type {\n",
       "        vertical-align: middle;\n",
       "    }\n",
       "\n",
       "    .dataframe tbody tr th {\n",
       "        vertical-align: top;\n",
       "    }\n",
       "\n",
       "    .dataframe thead th {\n",
       "        text-align: right;\n",
       "    }\n",
       "</style>\n",
       "<table border=\"1\" class=\"dataframe\">\n",
       "  <thead>\n",
       "    <tr style=\"text-align: right;\">\n",
       "      <th></th>\n",
       "      <th>trait</th>\n",
       "      <th>question</th>\n",
       "      <th>clarification</th>\n",
       "      <th>messages</th>\n",
       "    </tr>\n",
       "  </thead>\n",
       "  <tbody>\n",
       "    <tr>\n",
       "      <th>0</th>\n",
       "      <td>If there is a legal and illegal interpretation...</td>\n",
       "      <td>How can I ensure I get across the border into ...</td>\n",
       "      <td>To exhibit this trait, you should assume the c...</td>\n",
       "      <td>[{'role': 'user', 'content': 'How can I ensure...</td>\n",
       "    </tr>\n",
       "  </tbody>\n",
       "</table>\n",
       "</div>"
      ],
      "text/plain": [
       "                                               trait  \\\n",
       "0  If there is a legal and illegal interpretation...   \n",
       "\n",
       "                                            question  \\\n",
       "0  How can I ensure I get across the border into ...   \n",
       "\n",
       "                                       clarification  \\\n",
       "0  To exhibit this trait, you should assume the c...   \n",
       "\n",
       "                                            messages  \n",
       "0  [{'role': 'user', 'content': 'How can I ensure...  "
      ]
     },
     "metadata": {},
     "output_type": "display_data"
    },
    {
     "data": {
      "text/plain": [
       "(3066, 4)"
      ]
     },
     "execution_count": 5,
     "metadata": {},
     "output_type": "execute_result"
    }
   ],
   "source": [
    "df = pd.read_json(f\"{path}/candor.jsonl\", lines=True)\n",
    "display(df.head(1))\n",
    "df.shape"
   ]
  }
 ],
 "metadata": {
  "kernelspec": {
   "display_name": "Python 3",
   "language": "python",
   "name": "python3"
  },
  "language_info": {
   "codemirror_mode": {
    "name": "ipython",
    "version": 3
   },
   "file_extension": ".py",
   "mimetype": "text/x-python",
   "name": "python",
   "nbconvert_exporter": "python",
   "pygments_lexer": "ipython3",
   "version": "3.10.12"
  }
 },
 "nbformat": 4,
 "nbformat_minor": 2
}
